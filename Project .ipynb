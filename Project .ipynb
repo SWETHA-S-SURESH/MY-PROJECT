{
 "cells": [
  {
   "cell_type": "code",
   "execution_count": 3,
   "id": "320c8beb-4026-44d2-a226-e1966b98642f",
   "metadata": {},
   "outputs": [
    {
     "name": "stdout",
     "output_type": "stream",
     "text": [
      "\n",
      "Employee Management System\n",
      "1. Add Employee\n",
      "2. Display Employees\n",
      "3. Exit\n"
     ]
    },
    {
     "name": "stdin",
     "output_type": "stream",
     "text": [
      "Choose an option:  1\n",
      "Enter Employee ID:  101\n",
      "Enter Employee Name:  Jeffy\n",
      "Enter the Joining Date of the Employee (YYYY-MM-DD):  2024-01-24\n",
      "Enter the Contract Period of the Employee (months):  24\n",
      "Enter Participation Details:  Effective master\n"
     ]
    },
    {
     "name": "stdout",
     "output_type": "stream",
     "text": [
      "Employee ID already exists.\n",
      "\n",
      "Employee Management System\n",
      "1. Add Employee\n",
      "2. Display Employees\n",
      "3. Exit\n"
     ]
    },
    {
     "name": "stdin",
     "output_type": "stream",
     "text": [
      "Choose an option:  2\n"
     ]
    },
    {
     "name": "stdout",
     "output_type": "stream",
     "text": [
      "ID: 206, Name: Aldrin, Joining Date: , Contract Period: , Participation: Engaging with work\n",
      "ID: 249, Name: Rojar, Joining Date: , Contract Period: , Participation: Efficient Expert\n",
      "ID: 203, Name: Jhon, Joining Date: , Contract Period: , Participation: Strategic Thinker\n",
      "ID: cat, Name: 123, Joining Date: , Contract Period: , Participation: 4567\n",
      "ID: 149, Name: priyan, Joining Date: , Contract Period: , Participation: Goal-Getter\n",
      "ID: jas, Name: jasu, Joining Date: , Contract Period: , Participation: Master mind\n",
      "ID: 101, Name: Jeffy, Joining Date: 2021-01-24, Contract Period: 48, Participation: Effective Master Mind\n",
      "ID: dog, Name: 1234, Joining Date: 2023-02-21, Contract Period: 12, Participation: Learner\n",
      "ID: 144, Name: Jagu, Joining Date: 2023-05-01, Contract Period: 48, Participation: Teachnical thinker\n",
      "\n",
      "Employee Management System\n",
      "1. Add Employee\n",
      "2. Display Employees\n",
      "3. Exit\n"
     ]
    },
    {
     "name": "stdin",
     "output_type": "stream",
     "text": [
      "Choose an option:  1\n",
      "Enter Employee ID:  swetha\n",
      "Enter Employee Name:  swetha\n",
      "Enter the Joining Date of the Employee (YYYY-MM-DD):  2024\n",
      "Enter the Contract Period of the Employee (months):  48\n",
      "Enter Participation Details:  Learner\n"
     ]
    },
    {
     "name": "stdout",
     "output_type": "stream",
     "text": [
      "Invalid date format. Please use YYYY-MM-DD.\n",
      "\n",
      "Employee Management System\n",
      "1. Add Employee\n",
      "2. Display Employees\n",
      "3. Exit\n"
     ]
    },
    {
     "name": "stdin",
     "output_type": "stream",
     "text": [
      "Choose an option:  3\n"
     ]
    },
    {
     "name": "stdout",
     "output_type": "stream",
     "text": [
      "Exiting the system.\n"
     ]
    }
   ],
   "source": [
    "import json #used for reading file and writing from the json file\n",
    "from datetime import datetime #for validating the date format \n",
    "\n",
    "class Employee:\n",
    "    \"\"\"This class represents an employee with attributes id, name, participation.\"\"\"\n",
    "    def __init__(self, emp_id, name, joining_date, contract_period, participation): #initialize the intance with the provided attributes \n",
    "        self.emp_id = emp_id\n",
    "        self.name = name\n",
    "        self.joining_date = joining_date\n",
    "        self.contract_period = contract_period\n",
    "        self.participation = participation\n",
    "\n",
    "    def to_dict(self):\n",
    "        \"\"\"Converts the employee object into a dictionary.\"\"\"\n",
    "        return {\n",
    "            'emp_id': self.emp_id,\n",
    "            'name': self.name,\n",
    "            'joining_date': self.joining_date,\n",
    "            'contract_period': self.contract_period,\n",
    "            'participation': self.participation\n",
    "        }\n",
    "\n",
    "class EmployeeManager:\n",
    "    \"\"\"Manages employee records stored in a JSON file.\"\"\"\n",
    "    def __init__(self, filename):\n",
    "        self.filename = filename\n",
    "\n",
    "    def load_employees(self):\n",
    "        \"\"\"Reads the JSON file and converts the data into a list of employee objects.\"\"\"\n",
    "        try:\n",
    "            with open(self.filename, 'r') as file:\n",
    "                employees = json.load(file)\n",
    "                return [Employee(\n",
    "                    emp.get('emp_id', ''),\n",
    "                    emp.get('name', ''),\n",
    "                    emp.get('joining_date', ''),\n",
    "                    emp.get('contract_period', ''),\n",
    "                    emp.get('participation', '')\n",
    "                ) for emp in employees]\n",
    "        except FileNotFoundError:# create an empty list if the file does not exist\n",
    "            return []\n",
    "        except json.JSONDecodeError: #parsing json\n",
    "            print(\"Error decoding JSON. Starting with an empty list.\")\n",
    "            return []\n",
    "\n",
    "    def save_employees(self, employees):\n",
    "        \"\"\"Writes the list of employee objects to the JSON file and save.\"\"\"\n",
    "        try:\n",
    "            with open(self.filename, 'w') as file:\n",
    "                json.dump([emp.to_dict() for emp in employees], file, indent=4)\n",
    "        except IOError as e:\n",
    "            print(f\"An error occurred while saving: {e}\")\n",
    "\n",
    "    def add_employee(self, emp_id, name, joining_date, contract_period, participation):\n",
    "        \"\"\"Adds a new employee after checking for duplicate IDs.\"\"\"\n",
    "        employees = self.load_employees()\n",
    "        if any(emp.emp_id == emp_id for emp in employees):\n",
    "            print(\"Employee ID already exists.\") # checking duplicate id\n",
    "            return\n",
    "\n",
    "        \n",
    "        try:\n",
    "            datetime.strptime(joining_date, '%Y-%m-%d')\n",
    "        except ValueError:#ensure the correct format of date\n",
    "            print(\"Invalid date format. Please use YYYY-MM-DD.\")\n",
    "            return\n",
    "\n",
    "        # for ensure the positive integer\n",
    "        if not contract_period.isdigit() or int(contract_period) <= 0:\n",
    "            print(\"Contract period must be a positive integer.\")\n",
    "            return\n",
    "        #create a new employee id\n",
    "        new_employee = Employee(emp_id, name, joining_date, contract_period, participation)\n",
    "        employees.append(new_employee) #append it in the list\n",
    "        self.save_employees(employees) # save and update new id\n",
    "\n",
    "    def display_employees(self):\n",
    "        \"\"\"Loads and prints the list of employees and their details.\"\"\"\n",
    "        employees = self.load_employees()\n",
    "        if not employees: #if there is no employee and there details \n",
    "            print(\"No employees found.\")\n",
    "            return\n",
    "        for emp in employees:\n",
    "            print(f\"ID: {emp.emp_id}, Name: {emp.name}, Joining Date: {emp.joining_date}, \"\n",
    "                  f\"Contract Period: {emp.contract_period}, Participation: {emp.participation}\")\n",
    "\n",
    "def main():\n",
    "    \"\"\"Provides a simple text-based interface for employee management.\"\"\"\n",
    "    manager = EmployeeManager('employees.json')\n",
    "     # handling user choice\n",
    "    while True:#display option\n",
    "        print(\"\\nEmployee Management System\")\n",
    "        print(\"1. Add Employee\")\n",
    "        print(\"2. Display Employees\")\n",
    "        print(\"3. Exit\")\n",
    "        choice = input(\"Choose an option: \")\n",
    "\n",
    "        if choice == '1':\n",
    "            emp_id = input(\"Enter Employee ID: \")\n",
    "            name = input(\"Enter Employee Name: \")\n",
    "            joining_date = input(\"Enter the Joining Date of the Employee (YYYY-MM-DD): \")\n",
    "            contract_period = input(\"Enter the Contract Period of the Employee (months): \")\n",
    "            participation = input(\"Enter Participation Details: \")\n",
    "            manager.add_employee(emp_id, name, joining_date, contract_period, participation)\n",
    "\n",
    "        elif choice == '2':\n",
    "            manager.display_employees()\n",
    "\n",
    "        elif choice == '3':\n",
    "            print(\"Exiting the system.\")\n",
    "            break\n",
    "\n",
    "        else:\n",
    "            print(\"Invalid choice. Please try again.\")\n",
    "#entry point\n",
    "if __name__ == \"__main__\":\n",
    "    main() \n"
   ]
  },
  {
   "cell_type": "code",
   "execution_count": null,
   "id": "8d75aa87-6dfa-4e36-8c01-1693773fd182",
   "metadata": {},
   "outputs": [],
   "source": []
  }
 ],
 "metadata": {
  "kernelspec": {
   "display_name": "Python 3 (ipykernel)",
   "language": "python",
   "name": "python3"
  },
  "language_info": {
   "codemirror_mode": {
    "name": "ipython",
    "version": 3
   },
   "file_extension": ".py",
   "mimetype": "text/x-python",
   "name": "python",
   "nbconvert_exporter": "python",
   "pygments_lexer": "ipython3",
   "version": "3.12.4"
  }
 },
 "nbformat": 4,
 "nbformat_minor": 5
}
